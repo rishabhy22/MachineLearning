{
 "metadata": {
  "language_info": {
   "codemirror_mode": {
    "name": "ipython",
    "version": 3
   },
   "file_extension": ".py",
   "mimetype": "text/x-python",
   "name": "python",
   "nbconvert_exporter": "python",
   "pygments_lexer": "ipython3",
   "version": "3.9.1-final"
  },
  "orig_nbformat": 2,
  "kernelspec": {
   "name": "python3",
   "display_name": "Python 3.9.1 64-bit ('.ml')",
   "metadata": {
    "interpreter": {
     "hash": "2ee32e8c4f26121ee53bdf358eb039ecd20f62ecbfd33122d065b4b71d0348ff"
    }
   }
  }
 },
 "nbformat": 4,
 "nbformat_minor": 2,
 "cells": [
  {
   "source": [
    "## 2. **Implement the Bayes classifier over the breast cancer wisconsin dataset.**"
   ],
   "cell_type": "markdown",
   "metadata": {}
  },
  {
   "cell_type": "code",
   "execution_count": 8,
   "metadata": {},
   "outputs": [
    {
     "output_type": "stream",
     "name": "stdout",
     "text": [
      "Accuracy using Bayes Classifier :  94.4055944055944\n"
     ]
    }
   ],
   "source": [
    "import pandas as pd\n",
    "import numpy as np\n",
    "from sklearn.datasets import load_breast_cancer\n",
    "from sklearn.model_selection import train_test_split\n",
    "import math\n",
    "\n",
    "\n",
    "#Breas Cancer dataset loaded\n",
    "data = load_breast_cancer()\n",
    "dataset = pd.DataFrame(data.data, columns=data.feature_names)\n",
    "dataset['target'] = data.target\n",
    "\n",
    "\n",
    "x = dataset.iloc[:, :-1].to_numpy()\n",
    "y = dataset.iloc[:, -1].to_numpy()\n",
    "\n",
    "x_train, x_test, y_train, y_test = train_test_split(x, y, test_size=0.25, random_state=1)\n",
    "\n",
    "\n",
    "#class created for bayes classifier and its related functions\n",
    "class BayesClassifier(object):\n",
    "\n",
    "\n",
    "  def __init__(self,x,y):\n",
    "    self.classes = self.separateByClass(x,y)\n",
    "    self.meanS = self.meanStd(self.classes)\n",
    "    self.probClass = self.classP(y)\n",
    "\n",
    "\n",
    "  def meanStd(self,classes):\n",
    "    meanStd = {}\n",
    "    for (key, value) in classes.items():\n",
    "      meanStd[key] = [(np.mean(attr), np.std(attr)) for attr in zip(*value)]\n",
    "    return meanStd\n",
    "\n",
    "  #Split dataset by class and calculation for each row\n",
    "  def separateByClass(self,x,y):\n",
    "    classes = {}\n",
    "    for i in range(len(x)):\n",
    "      row = x[i]\n",
    "      if y[i] not in classes:\n",
    "        classes[y[i]] = []\n",
    "      classes[y[i]].append(row)\n",
    "    return classes\n",
    "\n",
    "  def classP(self,y):\n",
    "    classProb = {}\n",
    "    classProb[1] = list(y).count(1)/len(y) *100\n",
    "    classProb[0] = list(y).count(0)/len(y) *100\n",
    "    return classProb\n",
    "\n",
    "  def P(self,meanStd,classProb,x):\n",
    "    probs = {}\n",
    "    for (key, value) in meanStd.items():\n",
    "      probs[key] = 1\n",
    "      for i in range((len(value))):\n",
    "        (mean,std) = value[i]\n",
    "        probs[key] *= self.gaussianProbFn(x[i],mean,std)\n",
    "      probs[key] *= self.probClass[key]\n",
    "    return probs\n",
    "\n",
    "  #Probability Distribution Function\n",
    "  def gaussianProbFn(self,x,mean,std):\n",
    "\n",
    "    if std == 0.0:\n",
    "      if x == mean:\n",
    "        return 1.0\n",
    "      else:\n",
    "        return 0.0\n",
    "\n",
    "    else:\n",
    "      exp = math.exp(-(np.power(x - mean, 2) / (2 * np.power(std, 2))))\n",
    "      return 1 / (math.sqrt(2 * math.pi) * std) * exp\n",
    "\n",
    "  def pred(self,x):\n",
    "    predictions = []\n",
    "    for i in range(len(x)):\n",
    "      probs = self.P(self.meanS,self.probClass, x_test[i])\n",
    "      bestP=-1\n",
    "      bestClass=None\n",
    "      for (key,value) in probs.items():\n",
    "        if bestClass is None or value > bestP:\n",
    "          bestP = value\n",
    "          bestClass = key\n",
    "      predictions.append(bestClass)\n",
    "    return predictions\n",
    "\n",
    "  def accuracy(self,realTarget,predTarget):\n",
    "    c=0\n",
    "    for i in range(len(realTarget)):\n",
    "      if realTarget[i]==predTarget[i]:\n",
    "        c+=1\n",
    "    return c/float(len(realTarget))*100.0\n",
    "\n",
    "\n",
    "bayesClass=BayesClassifier(x_train,y_train)\n",
    "\n",
    "meanStd=bayesClass.meanStd\n",
    "\n",
    "accuracy = bayesClass.accuracy(y_test,bayesClass.pred(x_test))\n",
    "\n",
    "\n",
    "print(\"Accuracy using Bayes Classifier : \",accuracy)"
   ]
  }
 ]
}